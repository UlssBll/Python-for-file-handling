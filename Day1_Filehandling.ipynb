{
  "nbformat": 4,
  "nbformat_minor": 0,
  "metadata": {
    "colab": {
      "provenance": []
    },
    "kernelspec": {
      "name": "python3",
      "display_name": "Python 3"
    },
    "language_info": {
      "name": "python"
    }
  },
  "cells": [
    {
      "cell_type": "code",
      "source": [
        "#write a text into a file\n",
        "\n",
        "text=\"NTTdata\"\n",
        "\n",
        "f = open(\"aaa.txt\",\"w\")\n",
        "f.write(text)\n",
        "f.close()\n"
      ],
      "metadata": {
        "id": "s3bupyKSuzXp"
      },
      "execution_count": 8,
      "outputs": []
    },
    {
      "cell_type": "code",
      "source": [
        "f1=open(\"aaa.txt\",\"r\")\n",
        "data = f1.read()\n",
        "print(data)\n",
        "f1.close()\n"
      ],
      "metadata": {
        "colab": {
          "base_uri": "https://localhost:8080/"
        },
        "id": "TOoDqCuvwLMV",
        "outputId": "2fc73c2a-dd4d-47da-a2a7-f886e4945d60"
      },
      "execution_count": 9,
      "outputs": [
        {
          "output_type": "stream",
          "name": "stdout",
          "text": [
            "NTTdata\n"
          ]
        }
      ]
    },
    {
      "cell_type": "code",
      "source": [
        "f = open(\"aaa.txt\",mode=\"r\", buffering =10 , encoding=\"utf-8\")\n",
        "\n",
        "if f :\n",
        "  print(\"file opened succesful\")"
      ],
      "metadata": {
        "id": "JQnUAHQ4zP8R",
        "outputId": "93abb61d-1a36-4d53-bfc3-bb4ee54c5e8d",
        "colab": {
          "base_uri": "https://localhost:8080/"
        }
      },
      "execution_count": 11,
      "outputs": [
        {
          "output_type": "stream",
          "name": "stdout",
          "text": [
            "file opened succesful\n"
          ]
        }
      ]
    },
    {
      "cell_type": "code",
      "source": [
        "f = open(\"aaa.txt\",'w')\n",
        "print(\"file name is \", f.name)\n",
        "print(\"file mode is \", f.mode)\n",
        "print(\"file encoding\", f.encoding)\n",
        "print(\"is file closed\" , f.closed)\n",
        "f.close()\n",
        "print(\"is file closed\" , f.closed)"
      ],
      "metadata": {
        "id": "nW0LOgea2TKJ",
        "outputId": "cd26c596-3ed0-4d72-c00f-8f5dd284158b",
        "colab": {
          "base_uri": "https://localhost:8080/"
        }
      },
      "execution_count": 12,
      "outputs": [
        {
          "output_type": "stream",
          "name": "stdout",
          "text": [
            "file name is  aaa.txt\n",
            "file mode is  w\n",
            "file encoding UTF-8\n",
            "is file closed False\n",
            "is file closed True\n"
          ]
        }
      ]
    },
    {
      "cell_type": "code",
      "source": [
        "# file obj methods\n",
        "\n",
        "f = open(\"aaa.txt\",'r')\n",
        "print(f.readable())\n",
        "print(f.writable())\n",
        "f.close()"
      ],
      "metadata": {
        "id": "RMm9AKpy23QZ",
        "outputId": "5a7cfac3-0739-45ab-fd60-ce3246e00f96",
        "colab": {
          "base_uri": "https://localhost:8080/"
        }
      },
      "execution_count": 15,
      "outputs": [
        {
          "output_type": "stream",
          "name": "stdout",
          "text": [
            "True\n",
            "False\n"
          ]
        }
      ]
    },
    {
      "cell_type": "code",
      "source": [
        "# file obj methods\n",
        "\n",
        "f = open(\"aaa.txt\",'w')\n",
        "print(f.readable())\n",
        "print(f.writable())\n",
        "f.close()"
      ],
      "metadata": {
        "id": "AouYFU0C3UcP",
        "outputId": "c2b2203d-416f-4bf4-f01f-b822832337bb",
        "colab": {
          "base_uri": "https://localhost:8080/"
        }
      },
      "execution_count": 16,
      "outputs": [
        {
          "output_type": "stream",
          "name": "stdout",
          "text": [
            "False\n",
            "True\n"
          ]
        }
      ]
    },
    {
      "cell_type": "code",
      "source": [
        "name= \"NTT Data\"\n",
        "\n",
        "f = open(\"aaa.txt\",'w')\n",
        "print(f.readable())\n",
        "print(f.writable())\n",
        "f.close()"
      ],
      "metadata": {
        "id": "bxVT102a3mJQ"
      },
      "execution_count": null,
      "outputs": []
    }
  ]
}