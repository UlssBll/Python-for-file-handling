{
  "nbformat": 4,
  "nbformat_minor": 0,
  "metadata": {
    "colab": {
      "provenance": []
    },
    "kernelspec": {
      "name": "python3",
      "display_name": "Python 3"
    },
    "language_info": {
      "name": "python"
    }
  },
  "cells": [
    {
      "cell_type": "code",
      "source": [
        "#write a text into a file\n",
        "\n",
        "text=\"NTTdata\"\n",
        "\n",
        "f = open(\"aaa.txt\",\"w\")\n",
        "f.write(text)\n",
        "f.close()\n"
      ],
      "metadata": {
        "id": "s3bupyKSuzXp"
      },
      "execution_count": 8,
      "outputs": []
    },
    {
      "cell_type": "code",
      "source": [
        "f1=open(\"aaa.txt\",\"r\")\n",
        "data = f1.read()\n",
        "print(data)\n",
        "f1.close()\n"
      ],
      "metadata": {
        "id": "TOoDqCuvwLMV",
        "outputId": "2fc73c2a-dd4d-47da-a2a7-f886e4945d60",
        "colab": {
          "base_uri": "https://localhost:8080/"
        }
      },
      "execution_count": 9,
      "outputs": [
        {
          "output_type": "stream",
          "name": "stdout",
          "text": [
            "NTTdata\n"
          ]
        }
      ]
    }
  ]
}