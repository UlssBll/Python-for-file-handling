{
  "nbformat": 4,
  "nbformat_minor": 0,
  "metadata": {
    "colab": {
      "provenance": []
    },
    "kernelspec": {
      "name": "python3",
      "display_name": "Python 3"
    },
    "language_info": {
      "name": "python"
    }
  },
  "cells": [
    {
      "cell_type": "code",
      "source": [
        "# write a text into a file\n",
        "text = \"Nttdata\"\n",
        "\n",
        "f = open(\"aaa.txt\",\"w\")\n",
        "f.write(text)\n",
        "f.close()"
      ],
      "metadata": {
        "id": "MA6uYLEGqzXH"
      },
      "execution_count": 4,
      "outputs": []
    },
    {
      "cell_type": "code",
      "source": [
        "# read the content from the file\n",
        "f1 = open(\"aaa.txt\" , \"r\")\n",
        "\n",
        "data = f1.read()\n",
        "print(data)\n",
        "f1.close()"
      ],
      "metadata": {
        "colab": {
          "base_uri": "https://localhost:8080/"
        },
        "id": "tW1lDSuFwIkS",
        "outputId": "5a218c5d-33a3-49f1-9b39-5297e26eaeba"
      },
      "execution_count": 6,
      "outputs": [
        {
          "output_type": "stream",
          "name": "stdout",
          "text": [
            "Nttdata , Bengaluru\n"
          ]
        }
      ]
    },
    {
      "cell_type": "code",
      "source": [
        "f1 = open(\"aaa.txt\" , \"r\")\n",
        "print(f1)"
      ],
      "metadata": {
        "colab": {
          "base_uri": "https://localhost:8080/"
        },
        "id": "MqMZ5L2Gwsie",
        "outputId": "7ce04e4d-536e-48fb-ed23-bbdb746c8c44"
      },
      "execution_count": 7,
      "outputs": [
        {
          "output_type": "stream",
          "name": "stdout",
          "text": [
            "<_io.TextIOWrapper name='aaa.txt' mode='r' encoding='UTF-8'>\n"
          ]
        }
      ]
    },
    {
      "cell_type": "code",
      "source": [
        "f = open(\"aaa.txt\",mode=\"r\", buffering =10 , encoding=\"utf-8\")\n",
        "\n",
        "if f :\n",
        "  print(\"file opened succesful\")"
      ],
      "metadata": {
        "colab": {
          "base_uri": "https://localhost:8080/"
        },
        "id": "EF0VDFN2zNB7",
        "outputId": "2b1c07bd-9d44-4750-cdd5-e8470438684c"
      },
      "execution_count": 8,
      "outputs": [
        {
          "output_type": "stream",
          "name": "stdout",
          "text": [
            "file opened succesful\n"
          ]
        }
      ]
    },
    {
      "cell_type": "code",
      "source": [
        "f = open(\"aaa.txt\",'w')\n",
        "print(\"file name is \", f.name)\n",
        "print(\"file mode is \", f.mode)\n",
        "print(\"file encoding\", f.encoding)\n",
        "print(\"is file closed\" , f.closed)\n",
        "f.close()\n",
        "print(\"is file closed\" , f.closed)"
      ],
      "metadata": {
        "colab": {
          "base_uri": "https://localhost:8080/"
        },
        "id": "z5L6JPTI1c5m",
        "outputId": "e47798c6-3e4f-4d6b-9265-ef18fed6d1a0"
      },
      "execution_count": 9,
      "outputs": [
        {
          "output_type": "stream",
          "name": "stdout",
          "text": [
            "file name is  aaa.txt\n",
            "file mode is  w\n",
            "file encoding UTF-8\n",
            "is file closed False\n",
            "is file closed True\n"
          ]
        }
      ]
    },
    {
      "cell_type": "code",
      "source": [
        "# file obj methods\n",
        "f = open(\"aaa.txt\",'w')\n",
        "print(f.readable())\n",
        "print(f.writable())\n",
        "f.close()"
      ],
      "metadata": {
        "colab": {
          "base_uri": "https://localhost:8080/"
        },
        "id": "1oc4Ope02mdJ",
        "outputId": "3ba8eb87-740c-4d8f-9515-a5c2c796fa1e"
      },
      "execution_count": 11,
      "outputs": [
        {
          "output_type": "stream",
          "name": "stdout",
          "text": [
            "False\n",
            "True\n"
          ]
        }
      ]
    },
    {
      "cell_type": "code",
      "source": [
        "# file obj methods\n",
        "f = open(\"aaa.txt\",'w+')\n",
        "print(f.readable())\n",
        "print(f.writable())\n",
        "f.close()"
      ],
      "metadata": {
        "colab": {
          "base_uri": "https://localhost:8080/"
        },
        "id": "6SHmVz5A3EUf",
        "outputId": "74b56c3a-6f13-448b-fc5d-33a345dec516"
      },
      "execution_count": 12,
      "outputs": [
        {
          "output_type": "stream",
          "name": "stdout",
          "text": [
            "True\n",
            "True\n"
          ]
        }
      ]
    },
    {
      "cell_type": "code",
      "source": [
        "name = \"NTT Data\"\n",
        "\n",
        "f= open(\"aaa.txt\",'w+')\n",
        "f.write(name)\n",
        "f.seek(0)\n",
        "data = f.read()\n",
        "print(data)\n",
        "f.close()"
      ],
      "metadata": {
        "colab": {
          "base_uri": "https://localhost:8080/"
        },
        "id": "_k0hS2sN3Z5q",
        "outputId": "4b3e942d-aa1e-48b6-da3d-34a3003d06ee"
      },
      "execution_count": 13,
      "outputs": [
        {
          "output_type": "stream",
          "name": "stdout",
          "text": [
            "NTT Data\n"
          ]
        }
      ]
    },
    {
      "cell_type": "code",
      "source": [
        "number = int(input(\"enter a number\"))\n",
        "f = open(\"aaa.txt\",'w')\n",
        "f.write(number)\n",
        "f.close()"
      ],
      "metadata": {
        "colab": {
          "base_uri": "https://localhost:8080/",
          "height": 211
        },
        "id": "qOaAtbwM6Ggi",
        "outputId": "ff37c001-4f31-4631-c52b-e7c1a63aca4a"
      },
      "execution_count": 16,
      "outputs": [
        {
          "name": "stdout",
          "output_type": "stream",
          "text": [
            "enter a number100\n"
          ]
        },
        {
          "output_type": "error",
          "ename": "TypeError",
          "evalue": "write() argument must be str, not int",
          "traceback": [
            "\u001b[0;31m---------------------------------------------------------------------------\u001b[0m",
            "\u001b[0;31mTypeError\u001b[0m                                 Traceback (most recent call last)",
            "\u001b[0;32m<ipython-input-16-0235bac6b681>\u001b[0m in \u001b[0;36m<cell line: 0>\u001b[0;34m()\u001b[0m\n\u001b[1;32m      1\u001b[0m \u001b[0mnumber\u001b[0m \u001b[0;34m=\u001b[0m \u001b[0mint\u001b[0m\u001b[0;34m(\u001b[0m\u001b[0minput\u001b[0m\u001b[0;34m(\u001b[0m\u001b[0;34m\"enter a number\"\u001b[0m\u001b[0;34m)\u001b[0m\u001b[0;34m)\u001b[0m\u001b[0;34m\u001b[0m\u001b[0;34m\u001b[0m\u001b[0m\n\u001b[1;32m      2\u001b[0m \u001b[0mf\u001b[0m \u001b[0;34m=\u001b[0m \u001b[0mopen\u001b[0m\u001b[0;34m(\u001b[0m\u001b[0;34m\"aaa.txt\"\u001b[0m\u001b[0;34m,\u001b[0m\u001b[0;34m'w'\u001b[0m\u001b[0;34m)\u001b[0m\u001b[0;34m\u001b[0m\u001b[0;34m\u001b[0m\u001b[0m\n\u001b[0;32m----> 3\u001b[0;31m \u001b[0mf\u001b[0m\u001b[0;34m.\u001b[0m\u001b[0mwrite\u001b[0m\u001b[0;34m(\u001b[0m\u001b[0mnumber\u001b[0m\u001b[0;34m)\u001b[0m\u001b[0;34m\u001b[0m\u001b[0;34m\u001b[0m\u001b[0m\n\u001b[0m\u001b[1;32m      4\u001b[0m \u001b[0mf\u001b[0m\u001b[0;34m.\u001b[0m\u001b[0mclose\u001b[0m\u001b[0;34m(\u001b[0m\u001b[0;34m)\u001b[0m\u001b[0;34m\u001b[0m\u001b[0;34m\u001b[0m\u001b[0m\n",
            "\u001b[0;31mTypeError\u001b[0m: write() argument must be str, not int"
          ]
        }
      ]
    },
    {
      "cell_type": "code",
      "source": [
        "# text mode & binary mode\n",
        "\n",
        "f = open(\"aaa.txt\",'r')\n",
        "data = f.read(5)\n",
        "data1= f.read(5)\n",
        "print(data)\n",
        "print(data1)\n",
        "f.close()"
      ],
      "metadata": {
        "colab": {
          "base_uri": "https://localhost:8080/"
        },
        "id": "M0beSN_g7fw1",
        "outputId": "b4afb31e-fe4e-4ccb-c39c-464392e36a2c"
      },
      "execution_count": 20,
      "outputs": [
        {
          "output_type": "stream",
          "name": "stdout",
          "text": [
            "nttda\n",
            "ta be\n"
          ]
        }
      ]
    },
    {
      "cell_type": "code",
      "source": [
        "f = open(\"aaa.txt\",'rb')\n",
        "data = f.read()\n",
        "print(data)\n",
        "f.close()"
      ],
      "metadata": {
        "colab": {
          "base_uri": "https://localhost:8080/"
        },
        "id": "V2hluhtR8ACs",
        "outputId": "243bddaa-5572-4dc8-acf2-f2640c666473"
      },
      "execution_count": 18,
      "outputs": [
        {
          "output_type": "stream",
          "name": "stdout",
          "text": [
            "b'nttdata bengaluru\\r\\nwelcome\\r\\nhappy learning'\n"
          ]
        }
      ]
    },
    {
      "cell_type": "code",
      "source": [
        "# readline\n",
        "f = open(\"aaa.txt\",'r')\n",
        "data = f.readline()\n",
        "data1= f.readline()\n",
        "data2 = f.readline()\n",
        "print(data,end=\"\")\n",
        "print(data1)\n",
        "print(data2)\n",
        "f.close()\n"
      ],
      "metadata": {
        "colab": {
          "base_uri": "https://localhost:8080/"
        },
        "id": "SfNgNNCN84vI",
        "outputId": "3e74e023-d040-4109-8887-dd41778e8af2"
      },
      "execution_count": 30,
      "outputs": [
        {
          "output_type": "stream",
          "name": "stdout",
          "text": [
            "nttdata bengaluru\n",
            "welcome\n",
            "\n",
            "happy learning\n"
          ]
        }
      ]
    },
    {
      "cell_type": "code",
      "source": [
        "f = open(\"aaa.txt\",'r')\n",
        "#data = f.readline()\n",
        "data1= f.readline()\n",
        "data2 = f.readline()\n",
        "\n",
        "print(data)\n",
        "print(data1)\n",
        "print(data2)\n",
        "\n",
        "f.close()"
      ],
      "metadata": {
        "colab": {
          "base_uri": "https://localhost:8080/"
        },
        "id": "C7CTG40R90W-",
        "outputId": "8e40c05c-f132-413a-d230-fae27cbe8788"
      },
      "execution_count": 38,
      "outputs": [
        {
          "output_type": "stream",
          "name": "stdout",
          "text": [
            "ntt\n",
            "data bengaluru\n",
            "\n",
            "welcome\n",
            "\n"
          ]
        }
      ]
    },
    {
      "cell_type": "code",
      "source": [
        "f = open(\"aaa.txt\",'r')\n",
        "#data = f.readline()\n",
        "data1= f.readlines()\n",
        "\n",
        "\n",
        "print(data1)\n",
        "\n",
        "\n",
        "f.close()"
      ],
      "metadata": {
        "colab": {
          "base_uri": "https://localhost:8080/"
        },
        "id": "qEq_C_A2BWTJ",
        "outputId": "bf470c7a-9092-40f6-d391-fc0323cf83c2"
      },
      "execution_count": 40,
      "outputs": [
        {
          "output_type": "stream",
          "name": "stdout",
          "text": [
            "['nttdata bengaluru\\n', 'welcome\\n', 'happy learning\\n', '\\n', 'India\\n']\n"
          ]
        }
      ]
    }
  ]
}